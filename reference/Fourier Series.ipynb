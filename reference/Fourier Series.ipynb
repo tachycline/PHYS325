{
 "cells": [
  {
   "cell_type": "markdown",
   "metadata": {},
   "source": [
    "# Fourier Series in `sympy`\n",
    "\n",
    "There is a built-in routine for computing Fourier series in `sympy`. It takes a little while to do all of the integrations, so you have to be patient."
   ]
  },
  {
   "cell_type": "code",
   "execution_count": 1,
   "metadata": {
    "collapsed": true
   },
   "outputs": [],
   "source": [
    "import sympy as sp\n",
    "\n",
    "from sympy.abc import x,y\n",
    "from sympy import pi\n",
    "\n",
    "sp.init_printing()"
   ]
  },
  {
   "cell_type": "code",
   "execution_count": 2,
   "metadata": {
    "collapsed": false
   },
   "outputs": [
    {
     "data": {
      "image/png": "[encoded data removed]",
      "text/latex": [
       "$$\\frac{1}{\\pi^{2}} \\cos{\\left (2 \\pi x \\right )} + \\frac{1}{4 \\pi^{2}} \\cos{\\left (4 \\pi x \\right )} + \\frac{1}{3} + \\ldots$$"
      ],
      "text/plain": [
       "cos(2⋅π⋅x)   cos(4⋅π⋅x)   1    \n",
       "────────── + ────────── + ─ + …\n",
       "     2             2      3    \n",
       "    π           4⋅π            "
      ]
     },
     "execution_count": 2,
     "metadata": {},
     "output_type": "execute_result"
    }
   ],
   "source": [
    "s = sp.fourier_series(x**2, (x, 0, 1))\n",
    "s"
   ]
  },
  {
   "cell_type": "markdown",
   "metadata": {},
   "source": [
    "You can get a different number of terms by calling the `truncate` method."
   ]
  },
  {
   "cell_type": "code",
   "execution_count": 3,
   "metadata": {
    "collapsed": false
   },
   "outputs": [
    {
     "data": {
      "image/png": "[encoded data removed]",
      "text/latex": [
       "$$\\frac{1}{\\pi^{2}} \\cos{\\left (2 \\pi x \\right )} + \\frac{1}{4 \\pi^{2}} \\cos{\\left (4 \\pi x \\right )} + \\frac{1}{9 \\pi^{2}} \\cos{\\left (6 \\pi x \\right )} + \\frac{1}{16 \\pi^{2}} \\cos{\\left (8 \\pi x \\right )} + \\frac{1}{25 \\pi^{2}} \\cos{\\left (10 \\pi x \\right )} + \\frac{1}{36 \\pi^{2}} \\cos{\\left (12 \\pi x \\right )} + \\frac{1}{49 \\pi^{2}} \\cos{\\left (14 \\pi x \\right )} + \\frac{1}{64 \\pi^{2}} \\cos{\\left (16 \\pi x \\right )} + \\frac{1}{81 \\pi^{2}} \\cos{\\left (18 \\pi x \\right )} + \\frac{1}{3}$$"
      ],
      "text/plain": [
       "cos(2⋅π⋅x)   cos(4⋅π⋅x)   cos(6⋅π⋅x)   cos(8⋅π⋅x)   cos(10⋅π⋅x)   cos(12⋅π⋅x) \n",
       "────────── + ────────── + ────────── + ────────── + ─────────── + ─────────── \n",
       "     2             2            2            2             2             2    \n",
       "    π           4⋅π          9⋅π         16⋅π          25⋅π          36⋅π     \n",
       "\n",
       "  cos(14⋅π⋅x)   cos(16⋅π⋅x)   cos(18⋅π⋅x)   1\n",
       "+ ─────────── + ─────────── + ─────────── + ─\n",
       "         2             2             2      3\n",
       "     49⋅π          64⋅π          81⋅π        "
      ]
     },
     "execution_count": 3,
     "metadata": {},
     "output_type": "execute_result"
    }
   ],
   "source": [
    "s.truncate(10)"
   ]
  },
  {
   "cell_type": "markdown",
   "metadata": {},
   "source": [
    "For functions that are more complicated, you might have to do the integrations yourself. Here's the two-dimensional example from the homework, assuming a sine series."
   ]
  },
  {
   "cell_type": "code",
   "execution_count": 4,
   "metadata": {
    "collapsed": false
   },
   "outputs": [],
   "source": [
    "n,m = sp.symbols('n m', integer=True)\n",
    "\n",
    "c_mn = sp.integrate(sp.integrate(x*y*sp.sin(n*pi*x)*sp.sin(m*pi*y), (x, 1, 0)), (y, 0, 2))"
   ]
  },
  {
   "cell_type": "code",
   "execution_count": 5,
   "metadata": {
    "collapsed": false
   },
   "outputs": [
    {
     "data": {
      "image/png": "[encoded data removed]",
      "text/latex": [
       "$$\\begin{cases} 0 & \\text{for}\\: n = 0 \\\\\\begin{cases} 0 & \\text{for}\\: m = 0 \\\\- \\frac{2 \\left(-1\\right)^{n}}{\\pi^{2} m n} & \\text{otherwise} \\end{cases} & \\text{otherwise} \\end{cases}$$"
      ],
      "text/plain": [
       "⎧          0            for n = 0\n",
       "⎪                                \n",
       "⎪⎧    0      for m = 0           \n",
       "⎪⎪                               \n",
       "⎨⎪       n                       \n",
       "⎪⎨-2⋅(-1)               otherwise\n",
       "⎪⎪─────────  otherwise           \n",
       "⎪⎪   2                           \n",
       "⎩⎩  π ⋅m⋅n                       "
      ]
     },
     "execution_count": 5,
     "metadata": {},
     "output_type": "execute_result"
    }
   ],
   "source": [
    "c_mn"
   ]
  },
  {
   "cell_type": "markdown",
   "metadata": {},
   "source": [
    "If we assume a cosine series, we get something rather different (which is to be expected)."
   ]
  },
  {
   "cell_type": "code",
   "execution_count": 6,
   "metadata": {
    "collapsed": true
   },
   "outputs": [],
   "source": [
    "n,m = sp.symbols('n m', integer=True)\n",
    "\n",
    "c_mn = sp.integrate(sp.integrate(x*y*sp.cos(n*pi*x)*sp.cos(m*pi*y), (x, 1, 0)), (y, 0, 2))"
   ]
  },
  {
   "cell_type": "code",
   "execution_count": 7,
   "metadata": {
    "collapsed": false
   },
   "outputs": [
    {
     "data": {
      "image/png": "[encoded data removed]",
      "text/latex": [
       "$$\\begin{cases} \\begin{cases} \\begin{cases} \\begin{cases} -1 & \\text{for}\\: m = 0 \\\\- \\frac{1}{2 \\pi^{2} m^{2}} & \\text{otherwise} \\end{cases} & \\text{for}\\: n = 0 \\\\\\begin{cases} - \\frac{2 \\left(-1\\right)^{n}}{\\pi^{2} n^{2}} + \\frac{2}{\\pi^{2} n^{2}} & \\text{for}\\: m = 0 \\\\- \\frac{\\left(-1\\right)^{n}}{\\pi^{4} m^{2} n^{2}} + \\frac{1}{\\pi^{4} m^{2} n^{2}} & \\text{otherwise} \\end{cases} & \\text{otherwise} \\end{cases} & \\text{for}\\: m = 0 \\\\\\begin{cases} \\begin{cases} -1 & \\text{for}\\: m = 0 \\\\- \\frac{1}{2 \\pi^{2} m^{2}} & \\text{otherwise} \\end{cases} + \\frac{1}{2 \\pi^{2} m^{2}} & \\text{for}\\: n = 0 \\\\\\begin{cases} - \\frac{2 \\left(-1\\right)^{n}}{\\pi^{2} n^{2}} + \\frac{2}{\\pi^{2} n^{2}} & \\text{for}\\: m = 0 \\\\- \\frac{\\left(-1\\right)^{n}}{\\pi^{4} m^{2} n^{2}} + \\frac{1}{\\pi^{4} m^{2} n^{2}} & \\text{otherwise} \\end{cases} + \\frac{1}{2 \\pi^{2} m^{2}} & \\text{otherwise} \\end{cases} & \\text{otherwise} \\end{cases} & \\text{for}\\: n = 0 \\\\\\begin{cases} \\begin{cases} \\begin{cases} -1 & \\text{for}\\: m = 0 \\\\- \\frac{1}{2 \\pi^{2} m^{2}} & \\text{otherwise} \\end{cases} & \\text{for}\\: n = 0 \\\\\\begin{cases} - \\frac{2 \\left(-1\\right)^{n}}{\\pi^{2} n^{2}} + \\frac{2}{\\pi^{2} n^{2}} & \\text{for}\\: m = 0 \\\\- \\frac{\\left(-1\\right)^{n}}{\\pi^{4} m^{2} n^{2}} + \\frac{1}{\\pi^{4} m^{2} n^{2}} & \\text{otherwise} \\end{cases} & \\text{otherwise} \\end{cases} & \\text{for}\\: m = 0 \\\\\\begin{cases} \\frac{\\left(-1\\right)^{n}}{\\pi^{4} m^{2} n^{2}} + \\begin{cases} -1 & \\text{for}\\: m = 0 \\\\- \\frac{1}{2 \\pi^{2} m^{2}} & \\text{otherwise} \\end{cases} - \\frac{1}{\\pi^{4} m^{2} n^{2}} & \\text{for}\\: n = 0 \\\\\\frac{\\left(-1\\right)^{n}}{\\pi^{4} m^{2} n^{2}} + \\begin{cases} - \\frac{2 \\left(-1\\right)^{n}}{\\pi^{2} n^{2}} + \\frac{2}{\\pi^{2} n^{2}} & \\text{for}\\: m = 0 \\\\- \\frac{\\left(-1\\right)^{n}}{\\pi^{4} m^{2} n^{2}} + \\frac{1}{\\pi^{4} m^{2} n^{2}} & \\text{otherwise} \\end{cases} - \\frac{1}{\\pi^{4} m^{2} n^{2}} & \\text{otherwise} \\end{cases} & \\text{otherwise} \\end{cases} & \\text{otherwise} \\end{cases}$$"
      ],
      "text/plain": [
       "⎧      ⎧      ⎧       ⎧  -1     for m = 0                                     \n",
       "⎪      ⎪      ⎪       ⎪                                                       \n",
       "⎪      ⎪      ⎪       ⎪  -1                                                   \n",
       "⎪      ⎪      ⎪       ⎨───────  otherwise         for n = 0                   \n",
       "⎪      ⎪      ⎪       ⎪   2  2                                                \n",
       "⎪      ⎪      ⎪       ⎪2⋅π ⋅m                                                 \n",
       "⎪      ⎪      ⎪       ⎩                                                       \n",
       "⎪      ⎪      ⎪                                                               \n",
       "⎪      ⎪      ⎪⎧          n                                                   \n",
       "⎪      ⎪      ⎨⎪    2⋅(-1)      2                                  for m = 0  \n",
       "⎪      ⎪      ⎪⎪  - ─────── + ─────    for m = 0                              \n",
       "⎪      ⎪      ⎪⎪      2  2     2  2                                           \n",
       "⎪      ⎪      ⎪⎪     π ⋅n     π ⋅n                                            \n",
       "⎪      ⎪      ⎪⎨                                  otherwise                   \n",
       "⎪      ⎪      ⎪⎪       n                                                      \n",
       "⎪      ⎪      ⎪⎪   (-1)         1                                             \n",
       "⎪      ⎪      ⎪⎪- ──────── + ────────  otherwise                              \n",
       "⎪      ⎪      ⎪⎪   4  2  2    4  2  2                                         \n",
       "⎪      ⎪      ⎩⎩  π ⋅m ⋅n    π ⋅m ⋅n                                          \n",
       "⎪      ⎨                                                                      \n",
       "⎪      ⎪⎧       ⎛⎧  -1     for m = 0⎞                                         \n",
       "⎪      ⎪⎪       ⎜⎪                  ⎟                                         \n",
       "⎪      ⎪⎪       ⎜⎪  -1              ⎟      1                                  \n",
       "⎪      ⎪⎪       ⎜⎨───────  otherwise⎟ + ───────         for n = 0             \n",
       "⎪      ⎪⎪       ⎜⎪   2  2           ⎟      2  2                               \n",
       "⎪      ⎪⎪       ⎜⎪2⋅π ⋅m            ⎟   2⋅π ⋅m                                \n",
       "⎪      ⎪⎪       ⎝⎩                  ⎠                                         \n",
       "⎪      ⎪⎪                                                                     \n",
       "⎪      ⎪⎪⎛⎧          n                     ⎞                                  \n",
       "⎪      ⎪⎨⎜⎪    2⋅(-1)      2               ⎟                       otherwise  \n",
       "⎪      ⎪⎪⎜⎪  - ─────── + ─────    for m = 0⎟                                  \n",
       "⎪      ⎪⎪⎜⎪      2  2     2  2             ⎟                                  \n",
       "⎪      ⎪⎪⎜⎪     π ⋅n     π ⋅n              ⎟      1                           \n",
       "⎪      ⎪⎪⎜⎨                                ⎟ + ───────  otherwise             \n",
       "⎪      ⎪⎪⎜⎪       n                        ⎟      2  2                        \n",
       "⎪      ⎪⎪⎜⎪   (-1)         1               ⎟   2⋅π ⋅m                         \n",
       "⎪      ⎪⎪⎜⎪- ──────── + ────────  otherwise⎟                                  \n",
       "⎪      ⎪⎪⎜⎪   4  2  2    4  2  2           ⎟                                  \n",
       "⎪      ⎩⎩⎝⎩  π ⋅m ⋅n    π ⋅m ⋅n            ⎠                                  \n",
       "⎨                                                                             \n",
       "⎪⎧            ⎧       ⎧  -1     for m = 0                                     \n",
       "⎪⎪            ⎪       ⎪                                                       \n",
       "⎪⎪            ⎪       ⎪  -1                                                   \n",
       "⎪⎪            ⎪       ⎨───────  otherwise         for n = 0                   \n",
       "⎪⎪            ⎪       ⎪   2  2                                                \n",
       "⎪⎪            ⎪       ⎪2⋅π ⋅m                                                 \n",
       "⎪⎪            ⎪       ⎩                                                       \n",
       "⎪⎪            ⎪                                                               \n",
       "⎪⎪            ⎪⎧          n                                                   \n",
       "⎪⎪            ⎨⎪    2⋅(-1)      2                                        for m\n",
       "⎪⎪            ⎪⎪  - ─────── + ─────    for m = 0                              \n",
       "⎪⎪            ⎪⎪      2  2     2  2                                           \n",
       "⎪⎪            ⎪⎪     π ⋅n     π ⋅n                                            \n",
       "⎪⎪            ⎪⎨                                  otherwise                   \n",
       "⎪⎪            ⎪⎪       n                                                      \n",
       "⎪⎪            ⎪⎪   (-1)         1                                             \n",
       "⎪⎪            ⎪⎪- ──────── + ────────  otherwise                              \n",
       "⎪⎪            ⎪⎪   4  2  2    4  2  2                                         \n",
       "⎪⎪            ⎩⎩  π ⋅m ⋅n    π ⋅m ⋅n                                          \n",
       "⎪⎨                                                                            \n",
       "⎪⎪⎧                  ⎛⎧  -1     for m = 0⎞                                    \n",
       "⎪⎪⎪            n     ⎜⎪                  ⎟                                    \n",
       "⎪⎪⎪        (-1)      ⎜⎪  -1              ⎟      1                             \n",
       "⎪⎪⎪       ──────── + ⎜⎨───────  otherwise⎟ - ────────         for n = 0       \n",
       "⎪⎪⎪        4  2  2   ⎜⎪   2  2           ⎟    4  2  2                         \n",
       "⎪⎪⎪       π ⋅m ⋅n    ⎜⎪2⋅π ⋅m            ⎟   π ⋅m ⋅n                          \n",
       "⎪⎪⎪                  ⎝⎩                  ⎠                                    \n",
       "⎪⎪⎪                                                                           \n",
       "⎪⎪⎪           ⎛⎧          n                     ⎞                             \n",
       "⎪⎪⎨           ⎜⎪    2⋅(-1)      2               ⎟                        other\n",
       "⎪⎪⎪           ⎜⎪  - ─────── + ─────    for m = 0⎟                             \n",
       "⎪⎪⎪     n     ⎜⎪      2  2     2  2             ⎟                             \n",
       "⎪⎪⎪ (-1)      ⎜⎪     π ⋅n     π ⋅n              ⎟      1                      \n",
       "⎪⎪⎪──────── + ⎜⎨                                ⎟ - ────────  otherwise       \n",
       "⎪⎪⎪ 4  2  2   ⎜⎪       n                        ⎟    4  2  2                  \n",
       "⎪⎪⎪π ⋅m ⋅n    ⎜⎪   (-1)         1               ⎟   π ⋅m ⋅n                   \n",
       "⎪⎪⎪           ⎜⎪- ──────── + ────────  otherwise⎟                             \n",
       "⎪⎪⎪           ⎜⎪   4  2  2    4  2  2           ⎟                             \n",
       "⎩⎩⎩           ⎝⎩  π ⋅m ⋅n    π ⋅m ⋅n            ⎠                             \n",
       "\n",
       "               \n",
       "               \n",
       "               \n",
       "               \n",
       "               \n",
       "               \n",
       "               \n",
       "               \n",
       "               \n",
       "               \n",
       "               \n",
       "               \n",
       "               \n",
       "               \n",
       "               \n",
       "               \n",
       "               \n",
       "               \n",
       "               \n",
       "      for n = 0\n",
       "               \n",
       "               \n",
       "               \n",
       "               \n",
       "               \n",
       "               \n",
       "               \n",
       "               \n",
       "               \n",
       "               \n",
       "               \n",
       "               \n",
       "               \n",
       "               \n",
       "               \n",
       "               \n",
       "               \n",
       "               \n",
       "               \n",
       "               \n",
       "               \n",
       "               \n",
       "               \n",
       "               \n",
       "               \n",
       "               \n",
       "               \n",
       "               \n",
       "               \n",
       " = 0           \n",
       "               \n",
       "               \n",
       "               \n",
       "               \n",
       "               \n",
       "               \n",
       "               \n",
       "               \n",
       "               \n",
       "      otherwise\n",
       "               \n",
       "               \n",
       "               \n",
       "               \n",
       "               \n",
       "               \n",
       "               \n",
       "               \n",
       "               \n",
       "wise           \n",
       "               \n",
       "               \n",
       "               \n",
       "               \n",
       "               \n",
       "               \n",
       "               \n",
       "               \n",
       "               "
      ]
     },
     "execution_count": 7,
     "metadata": {},
     "output_type": "execute_result"
    }
   ],
   "source": [
    "c_mn"
   ]
  },
  {
   "cell_type": "markdown",
   "metadata": {},
   "source": [
    "This can be simplified for odd/even cases."
   ]
  },
  {
   "cell_type": "code",
   "execution_count": null,
   "metadata": {
    "collapsed": true
   },
   "outputs": [],
   "source": []
  }
 ],
 "metadata": {
  "anaconda-cloud": {},
  "kernelspec": {
   "display_name": "Python [conda env:PHYS325]",
   "language": "python",
   "name": "conda-env-PHYS325-py"
  },
  "language_info": {
   "codemirror_mode": {
    "name": "ipython",
    "version": 3
   },
   "file_extension": ".py",
   "mimetype": "text/x-python",
   "name": "python",
   "nbconvert_exporter": "python",
   "pygments_lexer": "ipython3",
   "version": "3.4.5"
  }
 },
 "nbformat": 4,
 "nbformat_minor": 1
}
