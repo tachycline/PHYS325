{
 "cells": [
  {
   "cell_type": "markdown",
   "metadata": {},
   "source": [
    "## Introduction."
   ]
  },
  {
   "cell_type": "markdown",
   "metadata": {},
   "source": [
    "Welcome to this brief introduction to the Jupyter (formerly IPython) notebook. Jupyter is an interactive environment for a number of programming languages, including Python.  The notebook is one of several possible ways to interact with Python; it has many nice features, and so it is where we will focus our attention.  This document was developed for use in upper level physics classes at Marietta College. It is designed to help students with no prior programming experience be able to use Python to solve the kinds of problems we will encounter in class. It does not come close to exploring everything you can do with either the Jupyter notebook or the Python programming language.  If you want more information about either of those things, I would direct you toward the official documentation for the [Jupyter Project](http://jupyter-notebook.readthedocs.org) or [Python](http://python.readthedocs.org). As of this writing (January 2016) Python 3 is mature, stable, and well supported. There are some libraries that still don't support it, but it is what we will use.\n",
    "\n",
    "Our use of IPython will fall into four broad categories:\n",
    "\n",
    "1. Calculation\n",
    "2. Plotting\n",
    "3. Solving ODEs\n",
    "4. Symbol manipulation\n",
    "\n",
    "Of these, the last is complicated enough that it will get its own treatment. The first three are described below.\n"
   ]
  },
  {
   "cell_type": "markdown",
   "metadata": {},
   "source": [
    "## Calculation"
   ]
  },
  {
   "cell_type": "markdown",
   "metadata": {},
   "source": [
    "We can do simple calculations in IPython by just typing the expression we want to evaluate in an *input cell* and pressing `Shift-Enter`.  Try it by evaluating the addition below:"
   ]
  },
  {
   "cell_type": "code",
   "execution_count": null,
   "metadata": {
    "collapsed": false
   },
   "outputs": [],
   "source": [
    "1 + 10"
   ]
  },
  {
   "cell_type": "markdown",
   "metadata": {},
   "source": [
    "Most arithmetic operators work as you would expect. The order of operations is sensible, but you can always put in explicit parentheses to make sure things happen in the order you want.  There is one likely exception:\n",
    "\n",
    "* You may have the urge to use the caret key \"^\" for exponentiation. This will not work. Use a double asterix \"**\" instead."
   ]
  },
  {
   "cell_type": "code",
   "execution_count": null,
   "metadata": {
    "collapsed": false
   },
   "outputs": [],
   "source": [
    "2^3"
   ]
  },
  {
   "cell_type": "code",
   "execution_count": null,
   "metadata": {
    "collapsed": false
   },
   "outputs": [],
   "source": [
    "2**3"
   ]
  },
  {
   "cell_type": "markdown",
   "metadata": {},
   "source": [
    "The caret `^` is a bitwise exclusive or operator. If that doesn't make any sense to you, you don't need to worry about it (other than to know it's not exponentiation). If you want to know more, though, you can use IPython's built in help."
   ]
  },
  {
   "cell_type": "code",
   "execution_count": null,
   "metadata": {
    "collapsed": false
   },
   "outputs": [],
   "source": [
    "help('^')"
   ]
  },
  {
   "cell_type": "markdown",
   "metadata": {
    "collapsed": false
   },
   "source": [
    "Python 2.x performed integer division by default, which works more as a computer scientist might expect than as a physicist would expect. That is no longer the default in Python 3. Integer division is still around, however, so you can use it if you need to. Just use the `//` operator instead of standard division `/`."
   ]
  },
  {
   "cell_type": "code",
   "execution_count": null,
   "metadata": {
    "collapsed": false
   },
   "outputs": [],
   "source": [
    "2/3"
   ]
  },
  {
   "cell_type": "code",
   "execution_count": null,
   "metadata": {
    "collapsed": false
   },
   "outputs": [],
   "source": [
    "2//3"
   ]
  },
  {
   "cell_type": "markdown",
   "metadata": {},
   "source": [
    "More sophisticated functions (like those you'd find on a scientific calculator) are not a part of the core python language, and so we get an error if we try to use them:"
   ]
  },
  {
   "cell_type": "code",
   "execution_count": null,
   "metadata": {
    "collapsed": false
   },
   "outputs": [],
   "source": [
    "sin(0)"
   ]
  },
  {
   "cell_type": "markdown",
   "metadata": {},
   "source": [
    "Fortunately, nearly every function you will want to use (and many, many others that you will likely never find a use for) have been defined by folks who needed them at some point. These are available to you in *libraries*. The library we will use most frequently is called `numpy`. To make use of `numpy`, we have to import it:"
   ]
  },
  {
   "cell_type": "code",
   "execution_count": null,
   "metadata": {
    "collapsed": false
   },
   "outputs": [],
   "source": [
    "import numpy as np"
   ]
  },
  {
   "cell_type": "markdown",
   "metadata": {},
   "source": [
    "Now, I can call the functions that `numpy` defines by letting python know where to find them."
   ]
  },
  {
   "cell_type": "code",
   "execution_count": null,
   "metadata": {
    "collapsed": false
   },
   "outputs": [],
   "source": [
    "np.sin(1.1)"
   ]
  },
  {
   "cell_type": "markdown",
   "metadata": {},
   "source": [
    "In addition to functions, `numpy` defines some useful constants."
   ]
  },
  {
   "cell_type": "code",
   "execution_count": null,
   "metadata": {
    "collapsed": false
   },
   "outputs": [],
   "source": [
    "np.e"
   ]
  },
  {
   "cell_type": "code",
   "execution_count": null,
   "metadata": {
    "collapsed": false
   },
   "outputs": [],
   "source": [
    "np.sin(np.pi/2)"
   ]
  },
  {
   "cell_type": "markdown",
   "metadata": {},
   "source": [
    "One way to find out what a given library (or module, in python terms) contains is to look at its directory. In this case, `numpy` is a huge module, with lots and lots of component parts. Its directory will have some things you recognize as mathematical functions, and others that you don't (and don't need to) understand.\n",
    "\n",
    "Additionally, since `numpy` is so big, executing the following cell will produce a lot of output. The notebook has a couple of features that make this more manageable. If you click once in the left margin of the output portion of the cell, the output section will become scrollable. If you click a second time it will be hidden entirely.  Try it out!"
   ]
  },
  {
   "cell_type": "code",
   "execution_count": null,
   "metadata": {
    "collapsed": false
   },
   "outputs": [],
   "source": [
    "dir(np)"
   ]
  },
  {
   "cell_type": "markdown",
   "metadata": {},
   "source": [
    "Working with single numbers is okay, but there's no reason you can't do that with a hand calculator. One way to add some functionality is to work with lists of numbers instead of individuals. Here I'll compute the tangent of a few numbers at once:"
   ]
  },
  {
   "cell_type": "code",
   "execution_count": null,
   "metadata": {
    "collapsed": false
   },
   "outputs": [],
   "source": [
    "np.tan([0, 0.1, 0.2, 0.3, 0.4, 0.5])"
   ]
  },
  {
   "cell_type": "markdown",
   "metadata": {},
   "source": [
    "As an aside, notice here that the small angle approximation $\\tan\\theta \\approx \\theta$ gives almost 10% error when $\\theta$ is 0.5.\n",
    "\n",
    "Typing out lists of numbers is tedious. Fortunately, we can make it easier:"
   ]
  },
  {
   "cell_type": "code",
   "execution_count": null,
   "metadata": {
    "collapsed": false
   },
   "outputs": [],
   "source": [
    "np.linspace(start=0, stop=np.pi, num=50)"
   ]
  },
  {
   "cell_type": "markdown",
   "metadata": {},
   "source": [
    "The `linspace` function creates an array of `num` linearly spaced points between the `start` and `stop` parameters, inclusive.  Now, if I want to use this sequence of numbers, I have to give it a name.  Here I'm using the *assignment operator* `=`.  It's important to note that I'm not testing or asserting equality here; rather I'm assigning the name on the left hand side of the `=` to the value on the right hand side. Also notice that there is no output. Assignment is silent."
   ]
  },
  {
   "cell_type": "code",
   "execution_count": null,
   "metadata": {
    "collapsed": false
   },
   "outputs": [],
   "source": [
    "x = np.linspace(start=0, stop=np.pi, num=50)"
   ]
  },
  {
   "cell_type": "markdown",
   "metadata": {},
   "source": [
    "On the other hand, I can recover the value by using its name."
   ]
  },
  {
   "cell_type": "code",
   "execution_count": null,
   "metadata": {
    "collapsed": false
   },
   "outputs": [],
   "source": [
    "x"
   ]
  },
  {
   "cell_type": "markdown",
   "metadata": {},
   "source": [
    "As I did before, I can operate on this array of values. Now, however, I can just call it by name."
   ]
  },
  {
   "cell_type": "code",
   "execution_count": null,
   "metadata": {
    "collapsed": false
   },
   "outputs": [],
   "source": [
    "np.sin(x)"
   ]
  },
  {
   "cell_type": "markdown",
   "metadata": {},
   "source": [
    "## Plotting "
   ]
  },
  {
   "cell_type": "markdown",
   "metadata": {},
   "source": [
    "We've gotten to the point where plots would be useful. Like mathematical functions, plotting is not part of the core python language. There are a number of plotting libraries out there, but the one we will use is called `matplotlib`.  The IPython notebook is `matplotlib` aware in ways that are sort of deep and magical, but we don't need to go into the details. To use `matplotlib`, we need to import it, and we need to tell the notebook to display plots inline. Actually, we will import only one of `matplotlib`'s three interfaces, called `pyplot`."
   ]
  },
  {
   "cell_type": "code",
   "execution_count": null,
   "metadata": {
    "collapsed": false
   },
   "outputs": [],
   "source": [
    "import matplotlib.pyplot as plt\n",
    "%matplotlib inline"
   ]
  },
  {
   "cell_type": "markdown",
   "metadata": {},
   "source": [
    "The bad news at this point is that `matplotlib` is huge, and mastering it will take quite a bit of work. You should\n",
    "be able to generate fairly simple plots without too much difficulty, though.\n",
    "\n",
    "Let's start with something really simple, like the `sin` function we used above. When we imported the `pyplot` interface to `matplotlib`, we gave it the name `plt`, so our plotting functions will be found there. Most straitforward is the plot command."
   ]
  },
  {
   "cell_type": "code",
   "execution_count": null,
   "metadata": {
    "collapsed": false
   },
   "outputs": [],
   "source": [
    "plt.plot(x, np.sin(x))"
   ]
  },
  {
   "cell_type": "markdown",
   "metadata": {},
   "source": [
    "We passed in a set of x values and a corresponding set of y values. By default, the points are joined in a smooth line.  If we want to put more than one line in a figure, we just issue multiple plot commands."
   ]
  },
  {
   "cell_type": "code",
   "execution_count": null,
   "metadata": {
    "collapsed": false
   },
   "outputs": [],
   "source": [
    "plt.plot(x, np.sin(x))\n",
    "plt.plot(x, np.cos(x))\n",
    "plt.plot(x, np.zeros_like(x))"
   ]
  },
  {
   "cell_type": "markdown",
   "metadata": {},
   "source": [
    "This is fine, but it's not very readable. We don't have any labels on the axes or lines, and there isn't a title. Let's fix that."
   ]
  },
  {
   "cell_type": "code",
   "execution_count": null,
   "metadata": {
    "collapsed": false
   },
   "outputs": [],
   "source": [
    "plt.plot(x, np.sin(x), label=\"y=sin(x)\")\n",
    "plt.plot(x, np.cos(x), label=\"y=cos(x)\")\n",
    "plt.plot(x, np.zeros_like(x), label=\"y=0\")\n",
    "\n",
    "plt.title(\"Some functions\")\n",
    "plt.xlabel(\"x\")\n",
    "plt.ylabel(\"y\")\n",
    "legend = plt.legend(loc=\"upper left\")\n",
    "legend.set_bbox_to_anchor((1.0, 1.0))"
   ]
  },
  {
   "cell_type": "markdown",
   "metadata": {},
   "source": [
    "Note that input cells can consist of multiple lines."
   ]
  },
  {
   "cell_type": "markdown",
   "metadata": {},
   "source": [
    "The plot function has a lot of options (more than I can go into here). If you want to browse, or forget what you're trying to do, you can use IPython's tab completion to help you.  In the input cell below, type `plt.plot(`  (note the open parenthesis!) and wait for a few seconds. A bubble will appear with some help information. If you want more help, hit `Shift-Tab` once. Hitting `Shift-Tab` again will make the help persistent (it won't disappear when you start typing), and hitting it a third time will put the help in a scrollable frame at the bottom of your browser window.  Try it out!"
   ]
  },
  {
   "cell_type": "code",
   "execution_count": null,
   "metadata": {
    "collapsed": false
   },
   "outputs": [],
   "source": []
  },
  {
   "cell_type": "markdown",
   "metadata": {},
   "source": [
    "Note that these plots look much, much better than similar ones you could make in Excel. Also note that you have lot's more control over both the data and how it's presented. If you ever try to turn in a plot from Excel in one of my classes, or use one in a presentation, I will beat you."
   ]
  },
  {
   "cell_type": "markdown",
   "metadata": {},
   "source": [
    "For an idea of the kinds of things you can do with `matplotlib`, have a look at [their gallery](http://matplotlib.sourceforge.net/gallery.html  \"The Matplotlib gallery\")."
   ]
  },
  {
   "cell_type": "markdown",
   "metadata": {},
   "source": [
    "## Solving ODEs"
   ]
  },
  {
   "cell_type": "markdown",
   "metadata": {},
   "source": [
    "We can solve ODEs with the `odeint` function, found in the excellent `scipy` package. I'm going to import it in a slightly different way here so that I can just refer to it as `odeint` instead of needing to call it `scipy.integrate.odeint` all of the time, which would get tedious."
   ]
  },
  {
   "cell_type": "code",
   "execution_count": null,
   "metadata": {
    "collapsed": false
   },
   "outputs": [],
   "source": [
    "from scipy.integrate import odeint"
   ]
  },
  {
   "cell_type": "markdown",
   "metadata": {},
   "source": [
    "Let's start with a really simple ODE. We'll borrow the one from problem 1.25 in Taylor's *Classical Mechanics*, namely, $$ {dy\\over dx} = -3y. $$\n",
    "\n",
    "To do this, we must first define a function which, when called, returns the value of the derivative of $y(x)$ at a point $x$. Since this could, in general, depend on both $x$ and $y$, we need to pass in both as arguments.\n",
    "\n",
    "The words between triple quotation marks are caled a *documentation string*, and are generally good programming practice. They let others (and you!) know what you were thinking when you wrote the code."
   ]
  },
  {
   "cell_type": "code",
   "execution_count": null,
   "metadata": {
    "collapsed": false
   },
   "outputs": [],
   "source": [
    "def func(y, x):\n",
    "    \"\"\"The function from Taylor problem 1.25\n",
    "\n",
    "    This is so we can solve the differential equation $${dy \\over dx} = -3y $$\n",
    "    \"\"\"\n",
    "    return -3 * y"
   ]
  },
  {
   "cell_type": "markdown",
   "metadata": {},
   "source": [
    "Before I can solve, I have to set up a range of values for my independent variable. I'll do that with the `linspace` function we've seen previously."
   ]
  },
  {
   "cell_type": "code",
   "execution_count": null,
   "metadata": {
    "collapsed": false
   },
   "outputs": [],
   "source": [
    "x = np.linspace(0, 10, 500)"
   ]
  },
  {
   "cell_type": "markdown",
   "metadata": {},
   "source": [
    "The other thing I have to do when solving an ODE on a computer is provide initial conditions. In this case, I'll say that $y(0)= 10.0.$"
   ]
  },
  {
   "cell_type": "code",
   "execution_count": null,
   "metadata": {
    "collapsed": false
   },
   "outputs": [],
   "source": [
    "y0 = 10.0"
   ]
  },
  {
   "cell_type": "markdown",
   "metadata": {},
   "source": [
    "Then I solve using the `odeint` function.  I pass in the function I defined to give the right hand side of the ODE, along with the initial conditions and the independent variable range I just set up. I store the results in a variable called (appropriately) `y`.  I want to plot my results, and I want to compare with an analytic solution, which I think ought to be $y=e^{-3x}$."
   ]
  },
  {
   "cell_type": "code",
   "execution_count": null,
   "metadata": {
    "collapsed": false
   },
   "outputs": [],
   "source": [
    "y = odeint(func, y0, x)\n",
    "plt.plot(x,y, label='numerical')\n",
    "plt.plot(x, np.exp(-3*x), label='analytic')\n",
    "plt.legend()"
   ]
  },
  {
   "cell_type": "markdown",
   "metadata": {},
   "source": [
    "Oops!  I forgot that my analytic solution has to match the initial conditions I provided, as well. In this case, that amounts to multiplying by $y(0)$, since $e^{-3\\cdot0} = 1$"
   ]
  },
  {
   "cell_type": "code",
   "execution_count": null,
   "metadata": {
    "collapsed": false
   },
   "outputs": [],
   "source": [
    "x = np.linspace(0, 10, 500)\n",
    "y0 = 10.0\n",
    "y = odeint(func, y0, x)\n",
    "plt.plot(x,y, label='numerical')\n",
    "plt.plot(x, y0*np.exp(-3*x), label='analytic')\n",
    "plt.legend()"
   ]
  },
  {
   "cell_type": "markdown",
   "metadata": {},
   "source": [
    "Now they look good. Just for kicks, let's plot this with a log scale on the y axis. Exponential decay should give us a straight line."
   ]
  },
  {
   "cell_type": "code",
   "execution_count": null,
   "metadata": {
    "collapsed": false
   },
   "outputs": [],
   "source": [
    "plt.semilogy(x,y, label='numerical')\n",
    "plt.semilogy(x, y0*np.exp(-3*x), label='analytic')\n",
    "plt.legend()"
   ]
  },
  {
   "cell_type": "markdown",
   "metadata": {},
   "source": [
    "We notice that something funny happens around $x=8$. Namely, the value of our numerical solution falls below the roundoff threshold and becomes zero (which makes it disappear on a log plot). The difference is small enough that we couldn't see it on the normal plot, but it's obvious when we shift to a log scale.  This underscores the fact that you can't just blindly trust numerical solutions! In this case, if we wanted to keep integrating out past $x=8$, we could employ some tricks to be able to do so, but that's beyond the scope of this brief introduction."
   ]
  },
  {
   "cell_type": "markdown",
   "metadata": {},
   "source": [
    "#### Something slightly more interesting"
   ]
  },
  {
   "cell_type": "markdown",
   "metadata": {},
   "source": [
    "That ODE was boring. Let's spice it up a bit.  We can put anything we want in the function we define as a derivative. This particular one gives us oscillations like a simple harmonic oscillator."
   ]
  },
  {
   "cell_type": "code",
   "execution_count": null,
   "metadata": {
    "collapsed": false
   },
   "outputs": [],
   "source": [
    "def shofunc(y, x):\n",
    "    \"\"\"A simple harmonic oscillator.\n",
    "\n",
    "    This is so we can solve the differential equation $${dy\\over dx} = -3*cos(3*x) $$\n",
    "    \"\"\"\n",
    "    return -3 * np.cos(3*x)"
   ]
  },
  {
   "cell_type": "markdown",
   "metadata": {},
   "source": [
    "We'll go ahead and reuse the independent variable and initial conditions we set up for the previous problem, integrate and plot the output.  See if you can solve this ODE by hand (it's also very simple) and plot the analytic solution below with appropriate labels set."
   ]
  },
  {
   "cell_type": "code",
   "execution_count": null,
   "metadata": {
    "collapsed": false
   },
   "outputs": [],
   "source": [
    "y = odeint(shofunc, y0, x)\n",
    "plt.plot(x,y)"
   ]
  },
  {
   "cell_type": "markdown",
   "metadata": {},
   "source": [
    "#### Systems of coupled equations"
   ]
  },
  {
   "cell_type": "markdown",
   "metadata": {},
   "source": [
    "Let's say that instead of a single ODE, we have a system, like for example $${df\\over d x} = -g, $$ \n",
    "$${dg \\over dx} = f. $$\n",
    "\n",
    "We can solve this with odeint, as well. We just treat $f$ and $g$ as the components of a vector. Then when we define our derivative function, it has to return a vector that has the derivative of $f$ in the first component, and the derivative of $g$ in the second component.\n",
    "\n",
    "Note that in python, we start counting from 0, so that the first component of our vector `y` is actually `y[0]`."
   ]
  },
  {
   "cell_type": "code",
   "execution_count": null,
   "metadata": {
    "collapsed": false
   },
   "outputs": [],
   "source": [
    "def func_system(y, x):\n",
    "    \"\"\"Derivative function for a two component system of ODEs\"\"\"\n",
    "    \n",
    "    dfdx = -y[1]\n",
    "    dgdx = y[0]\n",
    "    return (dfdx, dgdx)"
   ]
  },
  {
   "cell_type": "markdown",
   "metadata": {},
   "source": [
    "Our independent variable hasn't changed, but now we need to provide a vector of initial conditions. I can set $f(0) = 1.0$ and $g(0) = 0.0$ and then solve"
   ]
  },
  {
   "cell_type": "code",
   "execution_count": null,
   "metadata": {
    "collapsed": false
   },
   "outputs": [],
   "source": [
    "x = np.linspace(0, 10, 500)\n",
    "y0 = (1.0, 0.0)\n",
    "y = odeint(func_system, y0, x)\n",
    "plt.plot(x,y[:,0], label=\"f\")\n",
    "plt.plot(x,y[:,1], label=\"g\")\n",
    "plt.legend()"
   ]
  },
  {
   "cell_type": "markdown",
   "metadata": {},
   "source": [
    "#### Higher order equations as systems of coupled equations"
   ]
  },
  {
   "cell_type": "markdown",
   "metadata": {},
   "source": [
    "We deal with second and higher order ODEs by representing them as systems of first order ODEs. For example, Newton's Second Law in one dimension, $$F = m\\ddot{x}$$ can be represented as the pair of equations $$\\dot{x} = v$$ and $$\\dot{v} = {F\\over m}.$$ \n",
    "\n",
    "This looks a little bit like it either won't buy us anything or it's base trickery. What it actually does is allow us to make a vector $$ y = \\left(\\begin{array}{c} x \\\\ v  \\end{array}\\right) $$ and solve the ODE for that just exactly as we did for the unrelated functions in the previous section."
   ]
  },
  {
   "cell_type": "markdown",
   "metadata": {},
   "source": [
    "Imagine that we have a force of the form $$F = -x - v.$$ Then we could find a solution to Newton's second law for a particle of unit mass by defining the derivtive function"
   ]
  },
  {
   "cell_type": "code",
   "execution_count": null,
   "metadata": {
    "collapsed": false
   },
   "outputs": [],
   "source": [
    "def func_nsl(y,t):\n",
    "    \"\"\"Derivative function for Newton's second law.\n",
    "\n",
    "    A linearly damped oscillator.\"\"\"\n",
    "    \n",
    "    xdot = y[1]\n",
    "    vdot = -y[0] - y[1]\n",
    "    return (xdot, vdot)"
   ]
  },
  {
   "cell_type": "markdown",
   "metadata": {},
   "source": [
    "Now that we're talking about Newton's second law, and solving for position and velocity, it makes more sense to call our independent variable `t`.\n",
    "\n",
    "Again, my initial conditions have to be a vector."
   ]
  },
  {
   "cell_type": "code",
   "execution_count": null,
   "metadata": {
    "collapsed": false
   },
   "outputs": [],
   "source": [
    "t = np.linspace(0, 7, 500)\n",
    "y0 = (1.0, 0.0)\n",
    "y = odeint(func_nsl, y0, t)\n",
    "plt.plot(t,y[:,0], label=r\"$x(t)$\")\n",
    "plt.plot(t,y[:,1], label=r\"$v(t)$\")\n",
    "plt.xlabel(\"$t$\")\n",
    "plt.title(r\"Solution of Newton's Second Law for the damped oscillator\")\n",
    "legend = plt.legend(loc=\"upper left\")\n",
    "legend.set_bbox_to_anchor((1.0, 1.0))\n",
    "plt.grid()"
   ]
  },
  {
   "cell_type": "markdown",
   "metadata": {},
   "source": [
    "You're going to get a lot of opportunities to do this sort of thing this semester."
   ]
  }
 ],
 "metadata": {
  "anaconda-cloud": {},
  "kernelspec": {
   "display_name": "Python [default]",
   "language": "python",
   "name": "python3"
  },
  "language_info": {
   "codemirror_mode": {
    "name": "ipython",
    "version": 3
   },
   "file_extension": ".py",
   "mimetype": "text/x-python",
   "name": "python",
   "nbconvert_exporter": "python",
   "pygments_lexer": "ipython3",
   "version": "3.4.5"
  }
 },
 "nbformat": 4,
 "nbformat_minor": 0
}
